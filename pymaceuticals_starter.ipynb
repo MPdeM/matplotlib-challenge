{
 "cells": [
  {
   "cell_type": "markdown",
   "metadata": {},
   "source": [
    "\n",
    "## Observations and Insights\n",
    " \n",
    "Only two drugs showed reduction of tumor size, Capomulin and Ramicane. \n",
    "\n",
    "Capomulin seems to be as effective as Ramicane at treating the tumors in this population of mice. It seems to be effectively reducing the tumor volume over the 45 days of treatment in this specific mice cohort. \n",
    "\n",
    "Some of the drug treatments such as Ketapril seem less effective than no treatment , i.e. placebo. Other parameters such as survival rate and metastasis need to be assessed to confirm the negative effect of Katapril in this mice population. \n",
    "\n",
    "Many other drugs are similar than no treatment, in those casees a carefulconsideration of the survival rate and the metastasis will help guide better conclusions regarding effectiveness. \n",
    "\n",
    "Overall, this data on treatment effect in mice provide some guidance, however data on patients will definitively help to shine some ligth on the real effectiveness of these treatments.  \n",
    "\n",
    "\n"
   ]
  },
  {
   "cell_type": "markdown",
   "metadata": {},
   "source": []
  },
  {
   "cell_type": "markdown",
   "metadata": {},
   "source": [
    "## Dependencies and starter code"
   ]
  },
  {
   "cell_type": "code",
   "execution_count": 28,
   "metadata": {},
   "outputs": [],
   "source": [
    "# Dependencies and Setup\n",
    "import matplotlib.pyplot as plt\n",
    "import pandas as pd\n",
    "import numpy as np\n",
    "import scipy.stats as st\n",
    "from scipy.stats import linregress\n",
    "\n",
    "# Study data files\n",
    "mouse_metadata = \"data/Mouse_metadata.csv\"\n",
    "study_results = \"data/Study_results.csv\"\n",
    "\n",
    "# Read the mouse data and the study results\n",
    "mouse_metadata = pd.read_csv(mouse_metadata)\n",
    "study_results = pd.read_csv(study_results)\n",
    "\n",
    "# Combine the data into a single dataset\n",
    "combined_data = pd.merge(mouse_metadata, study_results, on=\"Mouse ID\")\n"
   ]
  },
  {
   "cell_type": "markdown",
   "metadata": {},
   "source": [
    "## Summary statistics"
   ]
  },
  {
   "cell_type": "code",
   "execution_count": 29,
   "metadata": {},
   "outputs": [
    {
     "data": {
      "text/html": [
       "<div>\n",
       "<style scoped>\n",
       "    .dataframe tbody tr th:only-of-type {\n",
       "        vertical-align: middle;\n",
       "    }\n",
       "\n",
       "    .dataframe tbody tr th {\n",
       "        vertical-align: top;\n",
       "    }\n",
       "\n",
       "    .dataframe thead th {\n",
       "        text-align: right;\n",
       "    }\n",
       "</style>\n",
       "<table border=\"1\" class=\"dataframe\">\n",
       "  <thead>\n",
       "    <tr style=\"text-align: right;\">\n",
       "      <th></th>\n",
       "      <th>Mean Tumor Vol (mm3)</th>\n",
       "      <th>Median Tumor Vol (mm3)</th>\n",
       "      <th>Variance</th>\n",
       "      <th>St. Dev.</th>\n",
       "      <th>S.E.M.</th>\n",
       "    </tr>\n",
       "    <tr>\n",
       "      <th>Drug Regimen</th>\n",
       "      <th></th>\n",
       "      <th></th>\n",
       "      <th></th>\n",
       "      <th></th>\n",
       "      <th></th>\n",
       "    </tr>\n",
       "  </thead>\n",
       "  <tbody>\n",
       "    <tr>\n",
       "      <th>Capomulin</th>\n",
       "      <td>40.68</td>\n",
       "      <td>41.56</td>\n",
       "      <td>24.95</td>\n",
       "      <td>4.99</td>\n",
       "      <td>0.33</td>\n",
       "    </tr>\n",
       "    <tr>\n",
       "      <th>Ceftamin</th>\n",
       "      <td>52.59</td>\n",
       "      <td>51.78</td>\n",
       "      <td>39.29</td>\n",
       "      <td>6.27</td>\n",
       "      <td>0.47</td>\n",
       "    </tr>\n",
       "    <tr>\n",
       "      <th>Infubinol</th>\n",
       "      <td>52.88</td>\n",
       "      <td>51.82</td>\n",
       "      <td>43.13</td>\n",
       "      <td>6.57</td>\n",
       "      <td>0.49</td>\n",
       "    </tr>\n",
       "    <tr>\n",
       "      <th>Ketapril</th>\n",
       "      <td>55.24</td>\n",
       "      <td>53.70</td>\n",
       "      <td>68.55</td>\n",
       "      <td>8.28</td>\n",
       "      <td>0.60</td>\n",
       "    </tr>\n",
       "    <tr>\n",
       "      <th>Naftisol</th>\n",
       "      <td>54.33</td>\n",
       "      <td>52.51</td>\n",
       "      <td>66.17</td>\n",
       "      <td>8.13</td>\n",
       "      <td>0.60</td>\n",
       "    </tr>\n",
       "    <tr>\n",
       "      <th>Placebo</th>\n",
       "      <td>54.03</td>\n",
       "      <td>52.29</td>\n",
       "      <td>61.17</td>\n",
       "      <td>7.82</td>\n",
       "      <td>0.58</td>\n",
       "    </tr>\n",
       "    <tr>\n",
       "      <th>Propriva</th>\n",
       "      <td>52.32</td>\n",
       "      <td>50.85</td>\n",
       "      <td>42.35</td>\n",
       "      <td>6.51</td>\n",
       "      <td>0.51</td>\n",
       "    </tr>\n",
       "    <tr>\n",
       "      <th>Ramicane</th>\n",
       "      <td>40.22</td>\n",
       "      <td>40.67</td>\n",
       "      <td>23.49</td>\n",
       "      <td>4.85</td>\n",
       "      <td>0.32</td>\n",
       "    </tr>\n",
       "    <tr>\n",
       "      <th>Stelasyn</th>\n",
       "      <td>54.23</td>\n",
       "      <td>52.43</td>\n",
       "      <td>59.45</td>\n",
       "      <td>7.71</td>\n",
       "      <td>0.57</td>\n",
       "    </tr>\n",
       "    <tr>\n",
       "      <th>Zoniferol</th>\n",
       "      <td>53.24</td>\n",
       "      <td>51.82</td>\n",
       "      <td>48.53</td>\n",
       "      <td>6.97</td>\n",
       "      <td>0.52</td>\n",
       "    </tr>\n",
       "  </tbody>\n",
       "</table>\n",
       "</div>"
      ],
      "text/plain": [
       "              Mean Tumor Vol (mm3)  Median Tumor Vol (mm3)  Variance  \\\n",
       "Drug Regimen                                                           \n",
       "Capomulin                    40.68                   41.56     24.95   \n",
       "Ceftamin                     52.59                   51.78     39.29   \n",
       "Infubinol                    52.88                   51.82     43.13   \n",
       "Ketapril                     55.24                   53.70     68.55   \n",
       "Naftisol                     54.33                   52.51     66.17   \n",
       "Placebo                      54.03                   52.29     61.17   \n",
       "Propriva                     52.32                   50.85     42.35   \n",
       "Ramicane                     40.22                   40.67     23.49   \n",
       "Stelasyn                     54.23                   52.43     59.45   \n",
       "Zoniferol                    53.24                   51.82     48.53   \n",
       "\n",
       "              St. Dev.  S.E.M.   \n",
       "Drug Regimen                     \n",
       "Capomulin         4.99     0.33  \n",
       "Ceftamin          6.27     0.47  \n",
       "Infubinol         6.57     0.49  \n",
       "Ketapril          8.28     0.60  \n",
       "Naftisol          8.13     0.60  \n",
       "Placebo           7.82     0.58  \n",
       "Propriva          6.51     0.51  \n",
       "Ramicane          4.85     0.32  \n",
       "Stelasyn          7.71     0.57  \n",
       "Zoniferol         6.97     0.52  "
      ]
     },
     "execution_count": 29,
     "metadata": {},
     "output_type": "execute_result"
    }
   ],
   "source": [
    "# Generate a summary statistics table of mean, median, variance, standard deviation, \n",
    "#and SEM -standard error of the mean- of the tumor volume for each regimen\n",
    "drug_tumor_subset = combined_data.loc[:,[\"Drug Regimen\",'Tumor Volume (mm3)']]\n",
    "\n",
    "drug_tumor_mean= round(drug_tumor_subset.groupby([\"Drug Regimen\"]).mean(),2)\n",
    "drug_tumor_median= round(drug_tumor_subset.groupby([\"Drug Regimen\"]).median(),2)\n",
    "drug_tumor_var= round(drug_tumor_subset.groupby([\"Drug Regimen\"]).var(),2)\n",
    "drug_tumor_std= round(drug_tumor_subset.groupby([\"Drug Regimen\"]).std(),2)\n",
    "drug_tumor_sem= round(drug_tumor_subset.groupby([\"Drug Regimen\"]).sem(),2)\n",
    "\n",
    "# Summary DataFrame \n",
    "index=drug_tumor_mean.index\n",
    "\n",
    "Summary= pd.DataFrame({ \"Mean Tumor Vol (mm3)\":drug_tumor_mean[\"Tumor Volume (mm3)\"],\n",
    "                       \"Median Tumor Vol (mm3)\": drug_tumor_median[\"Tumor Volume (mm3)\"], \n",
    "                       \"Variance\":drug_tumor_var[\"Tumor Volume (mm3)\"],\n",
    "                      \"St. Dev.\":drug_tumor_std[\"Tumor Volume (mm3)\"], \n",
    "                       \"S.E.M. \":drug_tumor_sem[\"Tumor Volume (mm3)\"]})\n",
    "\n",
    "Summary"
   ]
  },
  {
   "cell_type": "markdown",
   "metadata": {},
   "source": [
    "## Bar plots"
   ]
  },
  {
   "cell_type": "code",
   "execution_count": 30,
   "metadata": {},
   "outputs": [
    {
     "data": {
      "text/plain": [
       "Text(0, 0.5, 'Number of individual measurements')"
      ]
     },
     "execution_count": 30,
     "metadata": {},
     "output_type": "execute_result"
    },
    {
     "data": {
      "image/png": "[encoded data removed]",
      "text/plain": [
       "<Figure size 720x216 with 1 Axes>"
      ]
     },
     "metadata": {
      "needs_background": "light"
     },
     "output_type": "display_data"
    }
   ],
   "source": [
    "# Generate a bar plot showing number of data points for each treatment regimen using pandas\n",
    "observations_subset = combined_data[\"Drug Regimen\"].value_counts()\n",
    "\n",
    "observations_subset.plot(kind=\"bar\", figsize=(10,3))\n",
    "plt.title(\"Number of measurements for treatment regime (Pandas)\")\n",
    "plt.xlabel(\"Drug Treatment\")\n",
    "plt.ylabel(\"Number of individual measurements\")"
   ]
  },
  {
   "cell_type": "code",
   "execution_count": 31,
   "metadata": {},
   "outputs": [
    {
     "data": {
      "text/plain": [
       "Text(0, 0.5, 'Number of individual measurements')"
      ]
     },
     "execution_count": 31,
     "metadata": {},
     "output_type": "execute_result"
    },
    {
     "data": {
      "image/png": "[encoded data removed]",
      "text/plain": [
       "<Figure size 720x216 with 1 Axes>"
      ]
     },
     "metadata": {
      "needs_background": "light"
     },
     "output_type": "display_data"
    }
   ],
   "source": [
    "# Generate a bar plot showing number of data points for each treatment regimen using pyplot\n",
    "observations_subset = combined_data[\"Drug Regimen\"].value_counts()\n",
    "drug_names = observations_subset.index\n",
    "plt.figure(figsize=(10,3))\n",
    "x_axis = np.arange(len(drug_names))\n",
    "plt.bar(x_axis, observations_subset ,color=\"black\", alpha = 0.5,align = \"center\" )\n",
    "tick_locations = [x for x in x_axis]\n",
    "plt.xticks(tick_locations, drug_names,rotation = 90)\n",
    "plt.xlim(-0.75, len(x_axis)-0.25)\n",
    "plt.ylim(0, max(observations_subset)+50)\n",
    "plt.title(\"Number of measurements for treatment regime (MatplotLib)\")\n",
    "plt.xlabel(\"Drug Treatment\")\n",
    "plt.ylabel(\"Number of individual measurements\")\n"
   ]
  },
  {
   "cell_type": "markdown",
   "metadata": {},
   "source": [
    "## Pie plots"
   ]
  },
  {
   "cell_type": "code",
   "execution_count": 32,
   "metadata": {},
   "outputs": [
    {
     "data": {
      "text/plain": [
       "Text(0.5, 1.0, 'Distribution of female versus male mice (Panda)')"
      ]
     },
     "execution_count": 32,
     "metadata": {},
     "output_type": "execute_result"
    },
    {
     "data": {
      "image/png": "[encoded data removed]",
      "text/plain": [
       "<Figure size 432x288 with 1 Axes>"
      ]
     },
     "metadata": {},
     "output_type": "display_data"
    }
   ],
   "source": [
    "# Generate a pie plot showing the distribution of female versus male mice using pandas\n",
    "\n",
    "gender_subset = combined_data[\"Sex\"].value_counts() \n",
    "colors = [ \"lightcoral\", \"lightskyblue\"]\n",
    "gender_pie = gender_subset.plot(kind=\"pie\", autopct=\"%1.1f%%\",colors=colors) \n",
    "\n",
    "plt.title(\"Distribution of female versus male mice (Panda)\")"
   ]
  },
  {
   "cell_type": "code",
   "execution_count": 33,
   "metadata": {},
   "outputs": [
    {
     "data": {
      "text/plain": [
       "Text(0.5, 1.0, 'Distribution of female versus male mice (MatplotLib)')"
      ]
     },
     "execution_count": 33,
     "metadata": {},
     "output_type": "execute_result"
    },
    {
     "data": {
      "image/png": "[encoded data removed]",
      "text/plain": [
       "<Figure size 432x288 with 1 Axes>"
      ]
     },
     "metadata": {},
     "output_type": "display_data"
    }
   ],
   "source": [
    "# Generate a pie plot showing the distribution of female versus male mice using pyplot\n",
    "gender_subset = combined_data[\"Sex\"].value_counts()\n",
    "gender_names = gender_subset.index\n",
    "colors = [ \"lightcoral\", \"lightskyblue\"]\n",
    "explode = (0, 0.1)\n",
    "\n",
    "plt.pie(gender_subset, explode=explode, labels=gender_names, colors=colors,\n",
    "        autopct=\"%1.1f%%\", shadow=True, startangle=90)\n",
    "plt.axis(\"equal\")\n",
    "plt.title(\"Distribution of female versus male mice (MatplotLib)\")\n"
   ]
  },
  {
   "cell_type": "markdown",
   "metadata": {},
   "source": [
    "## Quartiles, outliers and boxplots"
   ]
  },
  {
   "cell_type": "code",
   "execution_count": 34,
   "metadata": {},
   "outputs": [
    {
     "data": {
      "text/html": [
       "<div>\n",
       "<style scoped>\n",
       "    .dataframe tbody tr th:only-of-type {\n",
       "        vertical-align: middle;\n",
       "    }\n",
       "\n",
       "    .dataframe tbody tr th {\n",
       "        vertical-align: top;\n",
       "    }\n",
       "\n",
       "    .dataframe thead th {\n",
       "        text-align: right;\n",
       "    }\n",
       "</style>\n",
       "<table border=\"1\" class=\"dataframe\">\n",
       "  <thead>\n",
       "    <tr style=\"text-align: right;\">\n",
       "      <th></th>\n",
       "      <th>Mean Tumor Vol (mm3)</th>\n",
       "      <th>Standard Deviation</th>\n",
       "    </tr>\n",
       "    <tr>\n",
       "      <th>Drug Regimen</th>\n",
       "      <th></th>\n",
       "      <th></th>\n",
       "    </tr>\n",
       "  </thead>\n",
       "  <tbody>\n",
       "    <tr>\n",
       "      <th>Ramicane</th>\n",
       "      <td>34.96</td>\n",
       "      <td>5.49</td>\n",
       "    </tr>\n",
       "    <tr>\n",
       "      <th>Capomulin</th>\n",
       "      <td>36.24</td>\n",
       "      <td>5.61</td>\n",
       "    </tr>\n",
       "    <tr>\n",
       "      <th>Ceftamin</th>\n",
       "      <td>64.13</td>\n",
       "      <td>3.25</td>\n",
       "    </tr>\n",
       "    <tr>\n",
       "      <th>Infubinol</th>\n",
       "      <td>65.76</td>\n",
       "      <td>3.43</td>\n",
       "    </tr>\n",
       "  </tbody>\n",
       "</table>\n",
       "</div>"
      ],
      "text/plain": [
       "              Mean Tumor Vol (mm3)  Standard Deviation\n",
       "Drug Regimen                                          \n",
       "Ramicane                     34.96                5.49\n",
       "Capomulin                    36.24                5.61\n",
       "Ceftamin                     64.13                3.25\n",
       "Infubinol                    65.76                3.43"
      ]
     },
     "execution_count": 34,
     "metadata": {},
     "output_type": "execute_result"
    }
   ],
   "source": [
    "# Calculate the final tumor volume of each mouse across four of the most promising treatment regimens:\n",
    "#Capomulin, Ramicane, Infubinol, and Ceftamin. \n",
    "four=['Capomulin', 'Ramicane', 'Infubinol','Ceftamin']\n",
    "mousevol_subset = combined_data.loc[combined_data[\"Timepoint\"] == 45]\n",
    "mouse4_subset = mousevol_subset[mousevol_subset['Drug Regimen'].isin(four)]\n",
    "del mouse4_subset[\"Sex\"]\n",
    "del mouse4_subset[\"Age_months\"]\n",
    "del mouse4_subset[\"Weight (g)\"]\n",
    "del mouse4_subset[\"Metastatic Sites\"]\n",
    "del mouse4_subset[\"Timepoint\"]\n",
    "del mouse4_subset[\"Mouse ID\"]\n",
    "\n",
    "Final_tumor_volume = round(mouse4_subset.groupby(['Drug Regimen']).mean(),2)\n",
    "Final_tumor_volumestd = round(mouse4_subset.groupby(['Drug Regimen']).std(),2)\n",
    "\n",
    "Summary_tumor_volume=pd.DataFrame({\"Mean Tumor Vol (mm3)\":Final_tumor_volume[\"Tumor Volume (mm3)\"],\n",
    "                                        \"Standard Deviation\":Final_tumor_volumestd[\"Tumor Volume (mm3)\"]})\n",
    "Summary_tumor_volume = Summary_tumor_volume.sort_values(\"Mean Tumor Vol (mm3)\")\n",
    "\n",
    "#Display the final tumor volume of each mouse across four of the most promising treatment regimens: \n",
    "Summary_tumor_volume"
   ]
  },
  {
   "cell_type": "code",
   "execution_count": 35,
   "metadata": {},
   "outputs": [
    {
     "name": "stdout",
     "output_type": "stream",
     "text": [
      "CAPOMULIN TREATMENT: QUARTILES, IQR, and outliers  \n",
      "-------------------------------------------------  \n",
      "The lower quartile is: 32.37735684\n",
      "The upper quartile is: 40.1592203\n",
      "The interquartile  is: 7.781863460000004\n",
      "The the median is: 37.31184577 \n",
      "Values below 20.70456164999999 could be outliers.\n",
      "Values above 51.83201549 could be outliers.\n",
      "There are no outliers\n",
      "-------------------------------------------------  \n"
     ]
    }
   ],
   "source": [
    "# CAPOMULIN: Calculate the quartiles and IQR and quantitatively determine if there are any potential outliers \n",
    "Cap = mouse4_subset.loc[mouse4_subset['Drug Regimen'] == \"Capomulin\"]\n",
    "\n",
    "quartiles = Cap['Tumor Volume (mm3)'].quantile([.25,.5,.75])\n",
    "lowerq = quartiles[0.25]\n",
    "upperq = quartiles[0.75]\n",
    "iqr = upperq-lowerq\n",
    "print(\"CAPOMULIN TREATMENT: QUARTILES, IQR, and outliers  \")\n",
    "print(\"-------------------------------------------------  \")\n",
    "print(f\"The lower quartile is: {lowerq}\")\n",
    "print(f\"The upper quartile is: {upperq}\")\n",
    "print(f\"The interquartile  is: {iqr}\")\n",
    "print(f\"The the median is: {quartiles[0.5]} \")\n",
    "\n",
    "lower_bound = lowerq - (1.5*iqr)\n",
    "upper_bound = upperq + (1.5*iqr)\n",
    "print(f\"Values below {lower_bound} could be outliers.\")\n",
    "print(f\"Values above {upper_bound} could be outliers.\")\n",
    "\n",
    "outlier_Cap = Cap.loc[(Cap['Tumor Volume (mm3)'] < lower_bound) | (Cap['Tumor Volume (mm3)'] > upper_bound)]\n",
    "\n",
    "if len(outlier_Cap) == 0:\n",
    "    print(\"There are no outliers\")\n",
    "pass\n",
    "print(\"-------------------------------------------------  \")\n",
    "\n"
   ]
  },
  {
   "cell_type": "code",
   "execution_count": 36,
   "metadata": {},
   "outputs": [
    {
     "name": "stdout",
     "output_type": "stream",
     "text": [
      "RAMICANE TREATMENT: QUARTILES, IQR, and outliers  \n",
      "-------------------------------------------------  \n",
      "The lower quartile is: 30.981175224999998\n",
      "The upper quartile is: 38.508305307499995\n",
      "The interquartile  is: 7.527130082499998\n",
      "The the median is: 34.848627300000004 \n",
      "Values below 19.690480101250003 could be outliers.\n",
      "Values above 49.79900043124999 could be outliers.\n",
      "There are no outliers\n",
      "-------------------------------------------------  \n"
     ]
    }
   ],
   "source": [
    "# RAMICANE: Calculate the quartiles and IQR and quantitatively determine if there are any potential outliers \n",
    "Ram = mouse4_subset.loc[mouse4_subset['Drug Regimen'] == \"Ramicane\"]\n",
    "\n",
    "quartiles = Ram['Tumor Volume (mm3)'].quantile([.25,.5,.75])\n",
    "lowerq = quartiles[0.25]\n",
    "upperq = quartiles[0.75]\n",
    "iqr = upperq-lowerq\n",
    "print(\"RAMICANE TREATMENT: QUARTILES, IQR, and outliers  \")\n",
    "print(\"-------------------------------------------------  \")\n",
    "print(f\"The lower quartile is: {lowerq}\")\n",
    "print(f\"The upper quartile is: {upperq}\")\n",
    "print(f\"The interquartile  is: {iqr}\")\n",
    "print(f\"The the median is: {quartiles[0.5]} \")\n",
    "\n",
    "lower_bound = lowerq - (1.5*iqr)\n",
    "upper_bound = upperq + (1.5*iqr)\n",
    "print(f\"Values below {lower_bound} could be outliers.\")\n",
    "print(f\"Values above {upper_bound} could be outliers.\")\n",
    "\n",
    "outlier = Ram.loc[(Ram['Tumor Volume (mm3)'] < lower_bound) | (Ram['Tumor Volume (mm3)'] > upper_bound)]\n",
    "\n",
    "if len(outlier) == 0:\n",
    "    print(\"There are no outliers\")\n",
    "pass\n",
    "print(\"-------------------------------------------------  \")\n"
   ]
  },
  {
   "cell_type": "code",
   "execution_count": 37,
   "metadata": {},
   "outputs": [
    {
     "name": "stdout",
     "output_type": "stream",
     "text": [
      "INFUBINOL TREATMENT: QUARTILES, IQR, and outliers  \n",
      "-------------------------------------------------  \n",
      "The lower quartile is: 62.75445141\n",
      "The upper quartile is: 67.68556862\n",
      "The interquartile  is: 4.9311172099999965\n",
      "The the median is: 66.08306589 \n",
      "Values below 55.35777559500001 could be outliers.\n",
      "Values above 75.08224443499999 could be outliers.\n",
      "There are no outliers\n",
      "-------------------------------------------------  \n"
     ]
    }
   ],
   "source": [
    "# INFUBINOL: Calculate the quartiles and IQR and quantitatively determine if there are any potential outliers \n",
    "Inf = mouse4_subset.loc[mouse4_subset['Drug Regimen'] == \"Infubinol\"]\n",
    "\n",
    "quartiles = Inf['Tumor Volume (mm3)'].quantile([.25,.5,.75])\n",
    "lowerq = quartiles[0.25]\n",
    "upperq = quartiles[0.75]\n",
    "iqr = upperq-lowerq\n",
    "print(\"INFUBINOL TREATMENT: QUARTILES, IQR, and outliers  \")\n",
    "print(\"-------------------------------------------------  \")\n",
    "print(f\"The lower quartile is: {lowerq}\")\n",
    "print(f\"The upper quartile is: {upperq}\")\n",
    "print(f\"The interquartile  is: {iqr}\")\n",
    "print(f\"The the median is: {quartiles[0.5]} \")\n",
    "\n",
    "lower_bound = lowerq - (1.5*iqr)\n",
    "upper_bound = upperq + (1.5*iqr)\n",
    "print(f\"Values below {lower_bound} could be outliers.\")\n",
    "print(f\"Values above {upper_bound} could be outliers.\")\n",
    "\n",
    "outlier = Inf.loc[(Inf['Tumor Volume (mm3)'] < lower_bound) | (Inf['Tumor Volume (mm3)'] > upper_bound)]\n",
    "\n",
    "if len(outlier) == 0:\n",
    "    print(\"There are no outliers\")\n",
    "pass\n",
    "print(\"-------------------------------------------------  \")\n"
   ]
  },
  {
   "cell_type": "code",
   "execution_count": 38,
   "metadata": {},
   "outputs": [
    {
     "name": "stdout",
     "output_type": "stream",
     "text": [
      "CEFTAMIN TREATMENT: QUARTILES, IQR, and outliers  \n",
      "-------------------------------------------------  \n",
      "The lower quartile is: 61.43389223\n",
      "The upper quartile is: 67.52748237\n",
      "The interquartile  is: 6.093590140000003\n",
      "The the median is: 64.29983003 \n",
      "Values below 52.29350701999999 could be outliers.\n",
      "Values above 76.66786758 could be outliers.\n",
      "There are no outliers\n",
      "-------------------------------------------------  \n"
     ]
    }
   ],
   "source": [
    "# CEFTAMIN: Calculate the quartiles and IQR and quantitatively determine if there are any potential outliers \n",
    "Cef = mouse4_subset.loc[mouse4_subset['Drug Regimen'] == \"Ceftamin\"]\n",
    "\n",
    "quartiles = Cef['Tumor Volume (mm3)'].quantile([.25,.5,.75])\n",
    "lowerq = quartiles[0.25]\n",
    "upperq = quartiles[0.75]\n",
    "iqr = upperq-lowerq\n",
    "print(\"CEFTAMIN TREATMENT: QUARTILES, IQR, and outliers  \")\n",
    "print(\"-------------------------------------------------  \")\n",
    "print(f\"The lower quartile is: {lowerq}\")\n",
    "print(f\"The upper quartile is: {upperq}\")\n",
    "print(f\"The interquartile  is: {iqr}\")\n",
    "print(f\"The the median is: {quartiles[0.5]} \")\n",
    "\n",
    "lower_bound = lowerq - (1.5*iqr)\n",
    "upper_bound = upperq + (1.5*iqr)\n",
    "print(f\"Values below {lower_bound} could be outliers.\")\n",
    "print(f\"Values above {upper_bound} could be outliers.\")\n",
    "\n",
    "outlier = Cef.loc[(Cef['Tumor Volume (mm3)'] < lower_bound) | (Cef['Tumor Volume (mm3)'] > upper_bound)]\n",
    "\n",
    "if len(outlier) == 0:\n",
    "    print(\"There are no outliers\")\n",
    "pass\n",
    "print(\"-------------------------------------------------  \")\n"
   ]
  },
  {
   "cell_type": "code",
   "execution_count": 104,
   "metadata": {
    "scrolled": true
   },
   "outputs": [
    {
     "data": {
      "image/png": "[encoded data removed]",
      "text/plain": [
       "<Figure size 432x288 with 1 Axes>"
      ]
     },
     "metadata": {
      "needs_background": "light"
     },
     "output_type": "display_data"
    }
   ],
   "source": [
    "# Generate a box plot of the final tumor volume of each mouse across four regimens of interest\n",
    "# ###\n",
    "\n",
    "## NOTE THAT THERE ARE NO OUTLIERS\n",
    "\n",
    "####\n",
    "\n",
    "fig, axs = plt.subplots()\n",
    "Data = [Cap[\"Tumor Volume (mm3)\"],Ram[\"Tumor Volume (mm3)\"],Inf[\"Tumor Volume (mm3)\"],Cef[\"Tumor Volume (mm3)\"]]\n",
    "axs.boxplot(Data)\n",
    "# Add labels to x axis\n",
    "labels = [\"Capomulin\", \"Ramicane\", \"Infubinol\", \"Ceftamin\"]\n",
    "axs.set_xticklabels(labels = labels)\n",
    "# Add title and axis labels \n",
    "axs.set_title('Final Tumor Volum for the different treatments')\n",
    "axs.set_ylabel('Final Tumor Volume (mm3)')\n",
    "axs.set_xlabel('Drug Regimes')\n",
    "plt.show()"
   ]
  },
  {
   "cell_type": "markdown",
   "metadata": {},
   "source": [
    "## Line and scatter plots"
   ]
  },
  {
   "cell_type": "code",
   "execution_count": 103,
   "metadata": {},
   "outputs": [
    {
     "data": {
      "image/png": "[encoded data removed]",
      "text/plain": [
       "<Figure size 432x288 with 1 Axes>"
      ]
     },
     "metadata": {
      "needs_background": "light"
     },
     "output_type": "display_data"
    }
   ],
   "source": [
    "# Generate a line plot of time point versus tumor volume for mice treated with Capomulin \n",
    "\n",
    "Capomulin = combined_data.loc[combined_data[\"Drug Regimen\"] == \"Capomulin\"]\n",
    "Capomulin_subset = Capomulin.loc[:,[\"Timepoint\",\"Tumor Volume (mm3)\"]]\n",
    "\n",
    "Cap_mean = Capomulin_subset.groupby([\"Timepoint\"]).mean()\n",
    "Cap_sem = Capomulin_subset.groupby([\"Timepoint\"]).sem()\n",
    "x_axis = np.arange(0, 50, 5)\n",
    "\n",
    "plt.errorbar(x_axis, Cap_mean[\"Tumor Volume (mm3)\"], yerr = Cap_sem[\"Tumor Volume (mm3)\"], fmt = '*--', capsize = 2.5)\n",
    "\n",
    "# Add labels\n",
    "plt.title('Tumor Volume Response over 45 days to Capomulin Treatment')\n",
    "plt.xlabel('Time (days)')\n",
    "plt.ylabel('Tumor Volume (mm3)')\n",
    "# Add x limits and y limits\n",
    "plt.xlim(0,50)\n",
    "plt.ylim(34,50)\n",
    "\n",
    "# Plot the graph\n",
    "plt.show()\n"
   ]
  },
  {
   "cell_type": "code",
   "execution_count": 100,
   "metadata": {},
   "outputs": [
    {
     "data": {
      "image/png": "[encoded data removed]",
      "text/plain": [
       "<Figure size 432x288 with 1 Axes>"
      ]
     },
     "metadata": {
      "needs_background": "light"
     },
     "output_type": "display_data"
    }
   ],
   "source": [
    "# Generate a scatter plot of mouse weight versus average tumor volume for the Capomulin regimen\n",
    "Capomulin = combined_data.loc[combined_data[\"Drug Regimen\"] == \"Capomulin\"]\n",
    "Capomulin_subsetw = Capomulin.loc[:,[\"Mouse ID\",\"Weight (g)\",\"Tumor Volume (mm3)\"]]\n",
    "Capomulin_subsetwmean= Capomulin_subsetw.groupby([\"Mouse ID\"])\n",
    "Capomulin_subsetwmean= Capomulin_subsetwmean.mean()\n",
    "\n",
    "x_values = Capomulin_subsetwmean[\"Weight (g)\"]\n",
    "y_values = Capomulin_subsetwmean[\"Tumor Volume (mm3)\"]\n",
    "\n",
    "plt.scatter(x_values,y_values)\n",
    "\n",
    "# Add labels\n",
    "plt.title('Average Tumor Volume as a function of mouse weigth (Capomulin Treatment)')\n",
    "plt.xlabel('Mouse weight (g)')\n",
    "plt.ylabel('Average Tumor Volume (mm3)')\n",
    "# Add x limits and y limits\n",
    "plt.xlim(12,27)\n",
    "plt.ylim(30,50)\n",
    "plt.show()\n"
   ]
  },
  {
   "cell_type": "code",
   "execution_count": 102,
   "metadata": {
    "scrolled": true
   },
   "outputs": [
    {
     "name": "stdout",
     "output_type": "stream",
     "text": [
      "The r-squared is: 0.8419363424694718\n"
     ]
    },
    {
     "data": {
      "image/png": "[encoded data removed]",
      "text/plain": [
       "<Figure size 432x288 with 1 Axes>"
      ]
     },
     "metadata": {
      "needs_background": "light"
     },
     "output_type": "display_data"
    }
   ],
   "source": [
    "# Calculate the # Plot the linear model on top of scatter plot and linear regression model\n",
    "#for mouse weight and average tumor volume for the Capomulin regimen\n",
    "Capomulin = combined_data.loc[combined_data[\"Drug Regimen\"] == \"Capomulin\"]\n",
    "Capomulin_subsetw = Capomulin.loc[:,[\"Mouse ID\",\"Weight (g)\",\"Tumor Volume (mm3)\"]]\n",
    "Capomulin_subsetwmean= Capomulin_subsetw.groupby([\"Mouse ID\"])\n",
    "Capomulin_subsetwmean= Capomulin_subsetwmean.mean()\n",
    "\n",
    "x_values = Capomulin_subsetwmean[\"Weight (g)\"]\n",
    "y_values = Capomulin_subsetwmean[\"Tumor Volume (mm3)\"]\n",
    "\n",
    "# the linear model \n",
    "(slope, intercept, rvalue, pvalue, stderr) = linregress(x_values, y_values)\n",
    "regress_values = x_values * slope + intercept\n",
    "line_eq = \"y = \" + str(round(slope,2)) + \"x + \" + str(round(intercept,2))\n",
    "\n",
    "# Plot the linear model on top of scatter plot \n",
    "plt.scatter(x_values,y_values)\n",
    "plt.plot(x_values,regress_values,\"r-\")\n",
    "plt.annotate(line_eq,(13,47),fontsize=15,color=\"red\")\n",
    "\n",
    "# Add labels\n",
    "plt.title('Average Tumor Volume as a function of mouse weigth (Capomulin Treatment)')\n",
    "plt.xlabel('Mouse weight (g)')\n",
    "plt.ylabel('Average Tumor Volume (mm3)')\n",
    "# Add x limits and y limits\n",
    "plt.xlim(12,27)\n",
    "plt.ylim(30,50)\n",
    "\n",
    "# Print the correlation coeficient\n",
    "print(f\"The r-squared is: {rvalue}\")\n",
    "\n",
    "plt.show()"
   ]
  },
  {
   "cell_type": "code",
   "execution_count": 90,
   "metadata": {},
   "outputs": [],
   "source": []
  },
  {
   "cell_type": "code",
   "execution_count": null,
   "metadata": {},
   "outputs": [],
   "source": []
  }
 ],
 "metadata": {
  "anaconda-cloud": {},
  "kernelspec": {
   "display_name": "Python 3",
   "language": "python",
   "name": "python3"
  },
  "language_info": {
   "codemirror_mode": {
    "name": "ipython",
    "version": 3
   },
   "file_extension": ".py",
   "mimetype": "text/x-python",
   "name": "python",
   "nbconvert_exporter": "python",
   "pygments_lexer": "ipython3",
   "version": "3.7.3"
  }
 },
 "nbformat": 4,
 "nbformat_minor": 2
}
